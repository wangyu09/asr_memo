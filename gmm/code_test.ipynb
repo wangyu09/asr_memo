{
 "cells": [
  {
   "cell_type": "code",
   "execution_count": null,
   "metadata": {},
   "outputs": [],
   "source": [
    "from gmm import *"
   ]
  },
  {
   "cell_type": "code",
   "execution_count": null,
   "metadata": {},
   "outputs": [],
   "source": [
    "import os,glob\n",
    "from tqdm import tqdm\n",
    "import copy\n",
    "import time"
   ]
  },
  {
   "cell_type": "code",
   "execution_count": null,
   "metadata": {},
   "outputs": [],
   "source": [
    "target = list(\"Z123456789O\")"
   ]
  },
  {
   "cell_type": "markdown",
   "metadata": {},
   "source": [
    "### 1. Prepare data"
   ]
  },
  {
   "cell_type": "code",
   "execution_count": null,
   "metadata": {},
   "outputs": [],
   "source": [
    "if not os.path.isdir(\"train_feats\"):\n",
    "    os.mkdir(\"train_feats\")\n",
    "    for t in target:\n",
    "        files = glob.glob( os.path.join(\"train\",\"*\",\"*\",t+\"*.wav\") )\n",
    "        \n",
    "        datas = []\n",
    "        for fileName in tqdm(files):\n",
    "            datas.append( compute_mfcc_feat(fileName) )\n",
    "            \n",
    "        datas = np.row_stack(datas)\n",
    "        print(t,\"Save to npy file\",datas.shape)\n",
    "        np.save( os.path.join(\"train_feats\",f\"{t}_mfcc.npy\"), datas )   \n",
    "\n",
    "if not os.path.isdir(\"test_feats\"):\n",
    "    os.mkdir(\"test_feats\")\n",
    "\n",
    "    files = glob.glob( os.path.join(\"test\",\"*.wav\") )\n",
    "\n",
    "    for fileName in files:\n",
    "        feat = compute_mfcc_feat(fileName)\n",
    "        #print(datas[0])\n",
    "        name = os.path.join( \"test_feats\",os.path.basename(fileName)[:-3] + \"npy\" )\n",
    "        print(\"Save to npy file\",feat.shape,name)\n",
    "        np.save(name,feat)"
   ]
  },
  {
   "cell_type": "markdown",
   "metadata": {},
   "source": [
    "### 2. Initialize GMMs"
   ]
  },
  {
   "cell_type": "code",
   "execution_count": null,
   "metadata": {},
   "outputs": [],
   "source": [
    "gmms = {}\n",
    "\n",
    "if not os.path.isdir(\"saved_models\"):  \n",
    "    os.mkdir(\"saved_models\")\n",
    "    allData = []\n",
    "    for t in target:\n",
    "        allData.append( np.load( os.path.join(\"train_feats\",t+\"_mfcc.npy\") ) )\n",
    "    allData = np.row_stack( allData )\n",
    "    gmm = GMM(k=3).initialize(allData)\n",
    "\n",
    "    for t in target:\n",
    "        gmms[t] = copy.deepcopy(gmm)\n",
    "        gmms[t].save( os.path.join(\"saved_models\",t+\".gmm\") )\n",
    "    print(\"Initialize models done\")   \n",
    "    \n",
    "else:\n",
    "    for t in target:\n",
    "        gmms[t] = load_GMM( os.path.join(\"saved_models\",t+\".gmm\") )\n",
    "    print(\"Load pretrained models done\")  "
   ]
  },
  {
   "cell_type": "markdown",
   "metadata": {},
   "source": [
    "### 3. Train GMMs"
   ]
  },
  {
   "cell_type": "code",
   "execution_count": null,
   "metadata": {},
   "outputs": [],
   "source": [
    "for t in target:\n",
    "    feats = np.load( os.path.join(\"train_feats\",t+\"_mfcc.npy\") )\n",
    "    for i in range(5):\n",
    "        st = time.time()\n",
    "        log_llh = gmms[t].estimate_parallel(feats,threads=5)\n",
    "        print(f\"Target: {t} , Iter: {i}, Likelihood: {log_llh:.6f}, Time Cost: {int(time.time()-st)} s\")\n",
    "    gmms[t].save( os.path.join(\"saved_models\",f\"{t}.gmm\") )\n",
    "    print(f\"Saved model {t}.gmm done!\")"
   ]
  },
  {
   "cell_type": "markdown",
   "metadata": {},
   "source": [
    "### 4.Test GMMs"
   ]
  },
  {
   "cell_type": "code",
   "execution_count": null,
   "metadata": {
    "scrolled": false
   },
   "outputs": [],
   "source": [
    "correction_num = 0\n",
    "error_num = 0\n",
    "acc = 0.0\n",
    "\n",
    "testFiiles = glob.glob(os.path.join(\"test_feats\",\"*.npy\"))\n",
    "numUtts = len(testFiiles)\n",
    "\n",
    "for i,fp in enumerate(testFiiles):\n",
    "    feats = np.load(fp)\n",
    "    label = fp[-12] \n",
    "    scores = []\n",
    "    for t in target:\n",
    "        scores.append(gmms[t].calc_log_likelihood(feats))\n",
    "    predict_target = target[scores.index(max(scores))]\n",
    "\n",
    "    if predict_target == label:\n",
    "        correction_num += 1\n",
    "        result = \"right\"\n",
    "    else:\n",
    "        error_num += 1\n",
    "        result = \"wrong\"\n",
    "    print(f\"{i}/{numUtts} utt: {fp} label:{label} predict:{predict_target} {result}\")\n",
    "\n",
    "acc = correction_num * 1.0 / (correction_num + error_num)\n",
    "print(\"Total accuracy:\",acc)"
   ]
  }
 ],
 "metadata": {
  "kernelspec": {
   "display_name": "Python 3",
   "language": "python",
   "name": "python3"
  },
  "language_info": {
   "codemirror_mode": {
    "name": "ipython",
    "version": 3
   },
   "file_extension": ".py",
   "mimetype": "text/x-python",
   "name": "python",
   "nbconvert_exporter": "python",
   "pygments_lexer": "ipython3",
   "version": "3.6.8"
  }
 },
 "nbformat": 4,
 "nbformat_minor": 4
}
